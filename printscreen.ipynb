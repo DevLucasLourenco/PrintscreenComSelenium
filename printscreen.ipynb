{
 "cells": [
  {
   "cell_type": "code",
   "execution_count": null,
   "metadata": {},
   "outputs": [],
   "source": [
    "from selenium import webdriver\n",
    "from selenium.webdriver.chrome.service import Service\n",
    "from webdriver_manager.chrome import ChromeDriverManager\n",
    "from selenium.webdriver.common.by import By\n",
    "\n",
    "servico = Service(ChromeDriverManager().install())\n",
    "navegador = webdriver.Chrome(service=servico)\n",
    "\n",
    "navegador.get('https://AlgumSite.com')"
   ]
  },
  {
   "cell_type": "code",
   "execution_count": null,
   "metadata": {},
   "outputs": [],
   "source": [
    "# caso queira tirar print da tela inteira, basta usar este comando.\n",
    "navegador.save_screenshot('print_teste.png')"
   ]
  },
  {
   "cell_type": "code",
   "execution_count": null,
   "metadata": {},
   "outputs": [],
   "source": [
    "# Caso queira tirar print somente de um pedaço, basta fazer assim(lembrando que no find_element, você deve designar o espaço onde que cortar através dos argumetos que passamos com o "By.":\n",
    "from  PIL import Image\n",
    "\n",
    "navegador.save_screenshot('print_teste2.png')\n",
    "\n",
    "imagem = Image.open('print_teste2.png')\n",
    "elemento = navegador.find_element(By.ID, 'header')\n",
    "posicao = elemento.location\n",
    "tamanho = elemento.size\n",
    "\n",
    "x = posicao['x']\n",
    "y = posicao['y']\n",
    "z = x + tamanho['width']\n",
    "w = y + tamanho['height']\n",
    "\n",
    "\n",
    "imagem = imagem.crop((x,y,z,w))\n",
    "imagem.save('print_adaptado.png')"
   ]
  }
 ],
 "metadata": {
  "kernelspec": {
   "display_name": "Python 3",
   "language": "python",
   "name": "python3"
  },
  "language_info": {
   "name": "python",
   "version": "3.10.9 (tags/v3.10.9:1dd9be6, Dec  6 2022, 20:01:21) [MSC v.1934 64 bit (AMD64)]"
  },
  "orig_nbformat": 4,
  "vscode": {
   "interpreter": {
    "hash": "4deb986f3ce6d39d52ae36d5b72d27b1f73a8b6b686c07859b235a0545bfc1d1"
   }
  }
 },
 "nbformat": 4,
 "nbformat_minor": 2
}
